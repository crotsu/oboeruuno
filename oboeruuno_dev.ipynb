{
  "nbformat": 4,
  "nbformat_minor": 0,
  "metadata": {
    "colab": {
      "provenance": [],
      "authorship_tag": "ABX9TyOXkEarCNRGUpzLX55pqPhR",
      "include_colab_link": true
    },
    "kernelspec": {
      "name": "python3",
      "display_name": "Python 3"
    },
    "language_info": {
      "name": "python"
    }
  },
  "cells": [
    {
      "cell_type": "markdown",
      "metadata": {
        "id": "view-in-github",
        "colab_type": "text"
      },
      "source": [
        "<a href=\"https://colab.research.google.com/github/crotsu/oboeruuno/blob/main/oboeruuno_dev.ipynb\" target=\"_parent\"><img src=\"https://colab.research.google.com/assets/colab-badge.svg\" alt=\"Open In Colab\"/></a>"
      ]
    },
    {
      "cell_type": "markdown",
      "source": [
        "# 基礎英作文問題精講（3訂版）の出題アプリを開発する"
      ],
      "metadata": {
        "id": "-NrYRXYG2opJ"
      }
    },
    {
      "cell_type": "markdown",
      "source": [
        "画像を読み取ってCSVデータを作成する．"
      ],
      "metadata": {
        "id": "U8ET-X2C2r0Y"
      }
    },
    {
      "cell_type": "code",
      "source": [],
      "metadata": {
        "id": "GLcV20Do2wLs"
      },
      "execution_count": null,
      "outputs": []
    }
  ]
}